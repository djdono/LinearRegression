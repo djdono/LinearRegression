{
 "cells": [
  {
   "cell_type": "code",
   "execution_count": 151,
   "metadata": {},
   "outputs": [],
   "source": [
    "import pandas as pd\n",
    "import numpy as np\n",
    "import os\n",
    "os.chdir(r'C:\\Users\\Daniel\\Documents\\Python Scripts\\Kaggle')"
   ]
  },
  {
   "cell_type": "code",
   "execution_count": 152,
   "metadata": {},
   "outputs": [],
   "source": [
    "adv = pd.read_csv('advertising.csv')\n",
    "sales = list(adv['Sales'])\n",
    "radio = list(adv['Radio'])"
   ]
  },
  {
   "cell_type": "code",
   "execution_count": 153,
   "metadata": {},
   "outputs": [],
   "source": [
    "def predict(x, w, b):\n",
    "    return x*w+b"
   ]
  },
  {
   "cell_type": "code",
   "execution_count": 154,
   "metadata": {},
   "outputs": [],
   "source": [
    "def cost_func(x, y, w, b):\n",
    "    total_error = 0.0\n",
    "    for i in range(len(x)):\n",
    "        total_error += (y[i] - (w*x[i] +b))**2\n",
    "        \n",
    "    mse = total_error/(len(x))\n",
    "    return mse"
   ]
  },
  {
   "cell_type": "code",
   "execution_count": 155,
   "metadata": {},
   "outputs": [],
   "source": [
    "def update_weights(x, y, w, b, eta):\n",
    "    weight_deriv = 0\n",
    "    bias_deriv = 0\n",
    "    \n",
    "    for i in range(len(x)):\n",
    "        weight_deriv += -2*x[i] * (y[i] - (w*x[i] +b))\n",
    "        bias_deriv += -2*(y[i] - (w*x[i] + b))\n",
    "    \n",
    "    w -= (weight_deriv/len(x)) * eta\n",
    "    b -= (bias_deriv/len(x)) * eta\n",
    "    \n",
    "    return w,b"
   ]
  },
  {
   "cell_type": "code",
   "execution_count": 156,
   "metadata": {},
   "outputs": [],
   "source": [
    "def train(x, y, w, b, eta, iters):\n",
    "    cost_history = []\n",
    "    \n",
    "    for i in range(iters):\n",
    "        w,b = update_weights(x, y, w, b, eta)\n",
    "        cost = cost_func(x, y, w, b)\n",
    "        cost_history.append(cost)\n",
    "        \n",
    "        if i% 100 == 0:\n",
    "            print(' iter={:d}, weight={:.2}, bias = {:.4f}, cost = {:.2}'.format(i, w, b, cost))\n",
    "    return w,b, cost_history"
   ]
  },
  {
   "cell_type": "code",
   "execution_count": 157,
   "metadata": {},
   "outputs": [
    {
     "name": "stdout",
     "output_type": "stream",
     "text": [
      " iter=0, weight=-2.1, bias = -51.3330, cost = 1.4e+04\n",
      " iter=100, weight=2.0, bias = -47.6528, cost = 1.1e+03\n",
      " iter=200, weight=1.9, bias = -44.2985, cost = 9.5e+02\n",
      " iter=300, weight=1.8, bias = -41.1321, cost = 8.5e+02\n",
      " iter=400, weight=1.7, bias = -38.1430, cost = 7.6e+02\n",
      " iter=500, weight=1.6, bias = -35.3213, cost = 6.8e+02\n",
      " iter=600, weight=1.5, bias = -32.6577, cost = 6.1e+02\n",
      " iter=700, weight=1.4, bias = -30.1432, cost = 5.4e+02\n",
      " iter=800, weight=1.3, bias = -27.7696, cost = 4.9e+02\n",
      " iter=900, weight=1.3, bias = -25.5289, cost = 4.4e+02\n",
      " iter=1000, weight=1.2, bias = -23.4138, cost = 3.9e+02\n",
      " iter=1100, weight=1.2, bias = -21.4171, cost = 3.5e+02\n",
      " iter=1200, weight=1.1, bias = -19.5322, cost = 3.2e+02\n",
      " iter=1300, weight=1.0, bias = -17.7529, cost = 2.8e+02\n",
      " iter=1400, weight=0.99, bias = -16.0732, cost = 2.6e+02\n",
      " iter=1500, weight=0.94, bias = -14.4877, cost = 2.3e+02\n",
      " iter=1600, weight=0.9, bias = -12.9909, cost = 2.1e+02\n",
      " iter=1700, weight=0.85, bias = -11.5780, cost = 1.9e+02\n",
      " iter=1800, weight=0.81, bias = -10.2442, cost = 1.7e+02\n",
      " iter=1900, weight=0.77, bias = -8.9851, cost = 1.5e+02\n",
      " iter=2000, weight=0.74, bias = -7.7965, cost = 1.4e+02\n",
      " iter=2100, weight=0.7, bias = -6.6746, cost = 1.3e+02\n",
      " iter=2200, weight=0.67, bias = -5.6154, cost = 1.2e+02\n",
      " iter=2300, weight=0.64, bias = -4.6156, cost = 1.1e+02\n",
      " iter=2400, weight=0.61, bias = -3.6717, cost = 9.7e+01\n",
      " iter=2500, weight=0.58, bias = -2.7808, cost = 8.9e+01\n",
      " iter=2600, weight=0.56, bias = -1.9397, cost = 8.2e+01\n",
      " iter=2700, weight=0.53, bias = -1.1458, cost = 7.6e+01\n",
      " iter=2800, weight=0.51, bias = -0.3963, cost = 7e+01\n",
      " iter=2900, weight=0.49, bias = 0.3112, cost = 6.5e+01\n",
      " iter=3000, weight=0.47, bias = 0.9791, cost = 6.1e+01\n",
      " iter=3100, weight=0.45, bias = 1.6096, cost = 5.7e+01\n",
      " iter=3200, weight=0.43, bias = 2.2048, cost = 5.3e+01\n",
      " iter=3300, weight=0.41, bias = 2.7666, cost = 5e+01\n",
      " iter=3400, weight=0.4, bias = 3.2969, cost = 4.7e+01\n",
      " iter=3500, weight=0.38, bias = 3.7976, cost = 4.5e+01\n",
      " iter=3600, weight=0.37, bias = 4.2702, cost = 4.3e+01\n",
      " iter=3700, weight=0.35, bias = 4.7164, cost = 4.1e+01\n",
      " iter=3800, weight=0.34, bias = 5.1375, cost = 3.9e+01\n",
      " iter=3900, weight=0.33, bias = 5.5351, cost = 3.7e+01\n",
      " iter=4000, weight=0.32, bias = 5.9104, cost = 3.6e+01\n",
      " iter=4100, weight=0.31, bias = 6.2647, cost = 3.5e+01\n",
      " iter=4200, weight=0.3, bias = 6.5991, cost = 3.4e+01\n",
      " iter=4300, weight=0.29, bias = 6.9148, cost = 3.3e+01\n",
      " iter=4400, weight=0.28, bias = 7.2128, cost = 3.2e+01\n",
      " iter=4500, weight=0.27, bias = 7.4941, cost = 3.1e+01\n",
      " iter=4600, weight=0.26, bias = 7.7597, cost = 3e+01\n",
      " iter=4700, weight=0.25, bias = 8.0104, cost = 3e+01\n",
      " iter=4800, weight=0.25, bias = 8.2471, cost = 2.9e+01\n",
      " iter=4900, weight=0.24, bias = 8.4705, cost = 2.8e+01\n"
     ]
    }
   ],
   "source": [
    "weights, bias, history = train(radio, sales, 10, -51, .001, 5000)"
   ]
  },
  {
   "cell_type": "code",
   "execution_count": 158,
   "metadata": {},
   "outputs": [
    {
     "data": {
      "text/plain": [
       "28.03150918646581"
      ]
     },
     "execution_count": 158,
     "metadata": {},
     "output_type": "execute_result"
    }
   ],
   "source": [
    "history[-1]"
   ]
  },
  {
   "cell_type": "code",
   "execution_count": 159,
   "metadata": {},
   "outputs": [
    {
     "data": {
      "text/plain": [
       "0.23325914740799306"
      ]
     },
     "execution_count": 159,
     "metadata": {},
     "output_type": "execute_result"
    }
   ],
   "source": [
    "weights"
   ]
  },
  {
   "cell_type": "code",
   "execution_count": 160,
   "metadata": {},
   "outputs": [
    {
     "data": {
      "text/plain": [
       "8.679315930980149"
      ]
     },
     "execution_count": 160,
     "metadata": {},
     "output_type": "execute_result"
    }
   ],
   "source": [
    "bias"
   ]
  },
  {
   "cell_type": "code",
   "execution_count": 161,
   "metadata": {},
   "outputs": [
    {
     "data": {
      "text/plain": [
       "28.03150918646581"
      ]
     },
     "execution_count": 161,
     "metadata": {},
     "output_type": "execute_result"
    }
   ],
   "source": [
    "cost_func(radio, sales, weights, bias)"
   ]
  },
  {
   "cell_type": "code",
   "execution_count": 162,
   "metadata": {},
   "outputs": [
    {
     "data": {
      "text/plain": [
       "66.62967707999995"
      ]
     },
     "execution_count": 162,
     "metadata": {},
     "output_type": "execute_result"
    }
   ],
   "source": [
    "cost_func(radio, sales, .46, .24)"
   ]
  },
  {
   "cell_type": "code",
   "execution_count": null,
   "metadata": {},
   "outputs": [],
   "source": []
  },
  {
   "cell_type": "code",
   "execution_count": null,
   "metadata": {},
   "outputs": [],
   "source": []
  },
  {
   "cell_type": "code",
   "execution_count": null,
   "metadata": {},
   "outputs": [],
   "source": []
  },
  {
   "cell_type": "code",
   "execution_count": null,
   "metadata": {},
   "outputs": [],
   "source": []
  }
 ],
 "metadata": {
  "kernelspec": {
   "display_name": "Python 3",
   "language": "python",
   "name": "python3"
  },
  "language_info": {
   "codemirror_mode": {
    "name": "ipython",
    "version": 3
   },
   "file_extension": ".py",
   "mimetype": "text/x-python",
   "name": "python",
   "nbconvert_exporter": "python",
   "pygments_lexer": "ipython3",
   "version": "3.8.5"
  }
 },
 "nbformat": 4,
 "nbformat_minor": 4
}
