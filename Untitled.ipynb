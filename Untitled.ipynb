{
 "cells": [
  {
   "cell_type": "code",
   "execution_count": 6,
   "metadata": {},
   "outputs": [],
   "source": [
    "import pandas as pd\n",
    "import numpy as np\n",
    "import os\n",
    "os.chdir(r'C:\\Users\\Daniel\\Documents\\Python Scripts\\Kaggle')"
   ]
  },
  {
   "cell_type": "code",
   "execution_count": 1,
   "metadata": {},
   "outputs": [],
   "source": [
    "def predict_sales(radio, weight, bias):\n",
    "    return weight*radio + bias\n"
   ]
  },
  {
   "cell_type": "code",
   "execution_count": 2,
   "metadata": {},
   "outputs": [],
   "source": [
    "def cost_function(radio, sales, weight, bias):\n",
    "    companies = len(radio)\n",
    "    total_error = 0.0\n",
    "    for i in range(companies):\n",
    "        total_error += (sales[i] - (weight*radio[i] + bias))**2\n",
    "    return total_error / companies"
   ]
  },
  {
   "cell_type": "code",
   "execution_count": 3,
   "metadata": {},
   "outputs": [],
   "source": [
    "def update_weights(radio, sales, weight, bias, learning_rate):\n",
    "    weight_deriv = 0\n",
    "    bias_deriv = 0\n",
    "    companies = len(radio)\n",
    "\n",
    "    for i in range(companies):\n",
    "        # Calculate partial derivatives\n",
    "        # -2x(y - (mx + b))\n",
    "        weight_deriv += -2*radio[i] * (sales[i] - (weight*radio[i] + bias))\n",
    "\n",
    "        # -2(y - (mx + b))\n",
    "        bias_deriv += -2*(sales[i] - (weight*radio[i] + bias))\n",
    "\n",
    "    # We subtract because the derivatives point in direction of steepest ascent\n",
    "    weight -= (weight_deriv / companies) * learning_rate\n",
    "    bias -= (bias_deriv / companies) * learning_rate\n",
    "\n",
    "    return weight, bias"
   ]
  },
  {
   "cell_type": "code",
   "execution_count": 5,
   "metadata": {},
   "outputs": [],
   "source": [
    "def train(radio, sales, weight, bias, learning_rate, iters):\n",
    "    cost_history = []\n",
    "\n",
    "    for i in range(iters):\n",
    "        weight,bias = update_weights(radio, sales, weight, bias, learning_rate)\n",
    "\n",
    "        #Calculate cost for auditing purposes\n",
    "        cost = cost_function(radio, sales, weight, bias)\n",
    "        cost_history.append(cost)\n",
    "\n",
    "        # Log Progress\n",
    "        if i % 10 == 0:\n",
    "            print(\"iter={:d}    weight={:.2f}    bias={:.4f}    cost={:.2}\".format(i, weight, bias, cost))\n",
    "\n",
    "    return weight, bias, cost_history"
   ]
  },
  {
   "cell_type": "code",
   "execution_count": 7,
   "metadata": {},
   "outputs": [],
   "source": [
    "adv = pd.read_csv('advertising.csv')\n",
    "sales = list(adv['Sales'])\n",
    "radio = list(adv['Radio'])"
   ]
  },
  {
   "cell_type": "code",
   "execution_count": 8,
   "metadata": {},
   "outputs": [
    {
     "name": "stdout",
     "output_type": "stream",
     "text": [
      "iter=0    weight=-7.09    bias=0.8173    cost=4.4e+04\n",
      "iter=10    weight=-2563802288829.82    bias=-78453407752.1893    cost=5e+27\n",
      "iter=20    weight=-869790250988801773010944.00    bias=-26615940518679924441088.0000    cost=5.8e+50\n",
      "iter=30    weight=-295083237896761287432512507547222016.00    bias=-9029668818420438703048493625245696.0000    cost=6.6e+73\n",
      "iter=40    weight=-100109327724297252049901816458456750254995800064.00    bias=-3063386729209543434406942450028056668431974400.0000    cost=7.6e+96\n"
     ]
    },
    {
     "data": {
      "text/plain": [
       "(2.3875449080957245e+57,\n",
       " 7.305985918709849e+55,\n",
       " [43575.929012523724,\n",
       "  8805468.661484092,\n",
       "  1781785945.5607898,\n",
       "  360546692125.3616,\n",
       "  72957092200527.44,\n",
       "  1.4762962521846224e+16,\n",
       "  2.9873046724857687e+18,\n",
       "  6.044849868750675e+20,\n",
       "  1.2231832351177458e+23,\n",
       "  2.4751271895233017e+25,\n",
       "  5.008452068694185e+27,\n",
       "  1.0134667919525475e+30,\n",
       "  2.0507632384278386e+32,\n",
       "  4.1497460927994086e+34,\n",
       "  8.397065205784292e+36,\n",
       "  1.699157068731091e+39,\n",
       "  3.4382664341227682e+41,\n",
       "  6.957376860306123e+43,\n",
       "  1.4078342590303945e+46,\n",
       "  2.8487709386673263e+48,\n",
       "  5.7645250560849765e+50,\n",
       "  1.1664591445803134e+53,\n",
       "  2.360345254356682e+55,\n",
       "  4.776189329604525e+57,\n",
       "  9.664681245306039e+59,\n",
       "  1.9556608234603732e+62,\n",
       "  3.957305118857631e+64,\n",
       "  8.007658391411322e+66,\n",
       "  1.620360093235639e+69,\n",
       "  3.278819729081701e+71,\n",
       "  6.6347343782997e+73,\n",
       "  1.3425471330477955e+76,\n",
       "  2.7166615898747854e+78,\n",
       "  5.497200070098584e+80,\n",
       "  1.1123655858838384e+83,\n",
       "  2.2508862345927043e+85,\n",
       "  4.554697579081706e+87,\n",
       "  9.216489806579082e+89,\n",
       "  1.8649687027497874e+92,\n",
       "  3.7737884327213345e+94,\n",
       "  7.6363099895151545e+96,\n",
       "  1.545217260998342e+99,\n",
       "  3.126767230462864e+101,\n",
       "  6.327054169185153e+103,\n",
       "  1.280287642450353e+106,\n",
       "  2.5906787006727714e+108,\n",
       "  5.2422720547971077e+110,\n",
       "  1.0607805703335615e+113,\n",
       "  2.146503284520485e+115,\n",
       "  4.3434773216183726e+117])"
      ]
     },
     "execution_count": 8,
     "metadata": {},
     "output_type": "execute_result"
    }
   ],
   "source": [
    "train(radio, sales, 1, 1, .01, 50)"
   ]
  },
  {
   "cell_type": "code",
   "execution_count": null,
   "metadata": {},
   "outputs": [],
   "source": []
  }
 ],
 "metadata": {
  "kernelspec": {
   "display_name": "Python 3",
   "language": "python",
   "name": "python3"
  },
  "language_info": {
   "codemirror_mode": {
    "name": "ipython",
    "version": 3
   },
   "file_extension": ".py",
   "mimetype": "text/x-python",
   "name": "python",
   "nbconvert_exporter": "python",
   "pygments_lexer": "ipython3",
   "version": "3.8.5"
  }
 },
 "nbformat": 4,
 "nbformat_minor": 4
}
